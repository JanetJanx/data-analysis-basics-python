{
  "nbformat": 4,
  "nbformat_minor": 0,
  "metadata": {
    "colab": {
      "provenance": [],
      "authorship_tag": "ABX9TyNCntzBmpWISwWWudOaFa6P",
      "include_colab_link": true
    },
    "kernelspec": {
      "name": "python3",
      "display_name": "Python 3"
    },
    "language_info": {
      "name": "python"
    }
  },
  "cells": [
    {
      "cell_type": "markdown",
      "metadata": {
        "id": "view-in-github",
        "colab_type": "text"
      },
      "source": [
        "<a href=\"https://colab.research.google.com/github/JanetJanx/data-analysis-basics-python/blob/main/PythonBasicsData.ipynb\" target=\"_parent\"><img src=\"https://colab.research.google.com/assets/colab-badge.svg\" alt=\"Open In Colab\"/></a>"
      ]
    },
    {
      "cell_type": "code",
      "execution_count": null,
      "metadata": {
        "id": "S1RNjQSl6M8z"
      },
      "outputs": [],
      "source": []
    },
    {
      "cell_type": "markdown",
      "source": [
        "**Let's look at functions in Python**\n",
        "\n",
        "Functions can have parameters and return values: -\n",
        "\n",
        "1. A **return value**: - result of running the function. It is returned to the code that called the function, to be used as needed.\n",
        "\n",
        "2. **Parameters** are the data necessary for a function to be run and generate a result. They are variables defined by a name and are specified in the function declaration.\n",
        "\n",
        "3. When using a function, you pass it different values as parameters. These values are called arguments.\n",
        "\n",
        "4. You can use the help function to print the documentation of a given function."
      ],
      "metadata": {
        "id": "xOdG7s0BKrnw"
      }
    },
    {
      "cell_type": "code",
      "source": [
        "#Calculate perimeter of a triangle\n",
        "def CalculatePerimeter(dimension1, dimension2, dimension3):\n",
        "  perimeter = dimension1 + dimension2 + dimension3\n",
        "  return perimeter\n",
        "\n",
        "circleone = CalculatePerimeter(8,7,9)\n",
        "print(\"Perimeter for circle one: \", circleone)"
      ],
      "metadata": {
        "colab": {
          "base_uri": "https://localhost:8080/"
        },
        "id": "c8WG-lvc6dIT",
        "outputId": "8cb6347e-336e-47ce-85bc-1613804b7941"
      },
      "execution_count": null,
      "outputs": [
        {
          "output_type": "stream",
          "name": "stdout",
          "text": [
            "Perimeter for circle one:  24\n"
          ]
        }
      ]
    },
    {
      "cell_type": "markdown",
      "source": [
        "**Python as an Object Oriented Programming Language**\n",
        "\n",
        "* Every time you create a variable of one of these types, you are actually Creating objects in Python with the value you assign to them as an attribute\n",
        "\n",
        "* In summary, a class is the outline of an object, defining its attributes and methods. From the same class, you can therefore create several objects of the same type, but with different attributes—these are called class instances.\n",
        "\n",
        "**Let's now focus on methods**\n",
        "\n",
        "The use of a method is always done via the   variableName.method()  notation. For example, strings have a method called   lower()  which will transform all the text contained in an object into lower case"
      ],
      "metadata": {
        "id": "wDvlR7-bScCL"
      }
    },
    {
      "cell_type": "code",
      "source": [
        "#String Method\n",
        "\n",
        "mySentence = 'I AM EXCITED!!'\n",
        "\n",
        "#whole text in lower case\n",
        "textlower = mySentence.lower()\n",
        "print(\"lower value: \", textlower)\n",
        "\n",
        "#whole text in upper case\n",
        "textupper = mySentence.upper()\n",
        "print(\"upper value: \", textupper)\n",
        "\n",
        "#whole text in capital case\n",
        "textcapital = mySentence.capitalize()\n",
        "print(\"capital value: \", textcapital)\n",
        "\n",
        "#Update or replace \n",
        "textreplace = mySentence.replace( mySentence, 'Looking forward to the Journey')\n",
        "print(\"replace value: \", textreplace)\n",
        "\n",
        "#returns either the index of the first occurrence of the string passed in the  argument, or -1 if it does not find it.\n",
        "textfind = mySentence.find(\"AM\")\n",
        "print(\"find value: \", textfind)"
      ],
      "metadata": {
        "colab": {
          "base_uri": "https://localhost:8080/"
        },
        "id": "OWDhD4EYR7iZ",
        "outputId": "5cec5b34-45a2-49be-9d35-528041045430"
      },
      "execution_count": null,
      "outputs": [
        {
          "output_type": "stream",
          "name": "stdout",
          "text": [
            "lower value:  i am excited!!\n",
            "upper value:  I AM EXCITED!!\n",
            "capital value:  I am excited!!\n",
            "replace value:  Looking forward to the Journey\n",
            "find value:  2\n"
          ]
        }
      ]
    },
    {
      "cell_type": "markdown",
      "source": [
        "**Exercises to do**"
      ],
      "metadata": {
        "id": "xyVQIXK9aTp3"
      }
    },
    {
      "cell_type": "code",
      "source": [
        "#View the code below and select the right value for x and y\n",
        "x = 10\n",
        "x += 12\n",
        "y = int(x/4)\n",
        "x = x + y\n",
        "#print(x, y)\n",
        "\n",
        "# x = 27.5, y = 5.5\n",
        "# x = 27, y = 5.5\n",
        "# x = 27, y = 5\n",
        "# x = 27.5, y = 7"
      ],
      "metadata": {
        "colab": {
          "base_uri": "https://localhost:8080/"
        },
        "id": "oamVLmMCZVaQ",
        "outputId": "2ca5ba71-eba7-49fa-d5d8-41b8dba7ac8c"
      },
      "execution_count": null,
      "outputs": [
        {
          "output_type": "stream",
          "name": "stdout",
          "text": [
            "27 5\n"
          ]
        }
      ]
    },
    {
      "cell_type": "code",
      "source": [
        "a = 4\n",
        "\n",
        "def poly(a, b, c, x):\n",
        "  return a*x**2 + b*x + c\n",
        "\n",
        "b = a\n",
        "b *= a\n",
        "c = 1\n",
        "result = poly(a, b, c, 0)\n",
        "a += 3\n",
        "a = 0\n",
        "\n",
        "print(result, a, b, c)\n",
        "\n",
        "#esult, a, b and c once the code above is run?"
      ],
      "metadata": {
        "colab": {
          "base_uri": "https://localhost:8080/"
        },
        "id": "cCPoODdtbG7Y",
        "outputId": "07f851ec-9cb1-44bb-cea8-58b56e626090"
      },
      "execution_count": null,
      "outputs": [
        {
          "output_type": "stream",
          "name": "stdout",
          "text": [
            "1 0 16 1\n"
          ]
        }
      ]
    },
    {
      "cell_type": "markdown",
      "source": [
        "**Lists**\n",
        "\n",
        "These are ordered objects, i.e., each item of the list is associated with a number corresponding to its order in the list. This number is called an index and it starts at 0 (not 1!). The first item is therefore associated with index 0, the second with index 1, etc.\n",
        "\n",
        "---\n",
        "\n",
        "1. customerName = ['Marion Weaver', 'Alberto Mendoza', 'Katharine Tyler', 'Isaac Steele']\n",
        "\n",
        "---\n",
        "\n",
        "Now that your list is created, you can perform two basic operations:\n",
        "\n",
        "* Access a value at a given index\n",
        "* Change the value at a given index\n",
        "\n",
        "\n",
        "**Use indexes to modify the list items**\n"
      ],
      "metadata": {
        "id": "zhSpJMAwfDma"
      }
    },
    {
      "cell_type": "code",
      "source": [
        "#colors lists\n",
        "colors = ['red', 'yellow', 'orange', 'green', 'blue']\n",
        "\n",
        "# modify green to emerald\n",
        "colors[3] = 'emerald'\n",
        "\n",
        "#loop through to print each color on a separte line\n",
        "for color in colors :\n",
        "    print(\"list value: \", color)\n",
        "\n",
        "print(\"list: \", colors)\n",
        "# print the last item\n",
        "print(\"last item: \", colors[:1])\n",
        "\n",
        "# access the second item to the 3rd\n",
        "print(\"second & third item: \", colors[1:3])\n",
        "\n",
        "# access all items from the beginning to the second\n",
        "print(\"items from second item\", colors[:2])"
      ],
      "metadata": {
        "colab": {
          "base_uri": "https://localhost:8080/"
        },
        "id": "F-OL8E06pDbp",
        "outputId": "c3e568ac-058e-44e2-f926-9c3c5aed05a7"
      },
      "execution_count": null,
      "outputs": [
        {
          "output_type": "stream",
          "name": "stdout",
          "text": [
            "list value:  red\n",
            "list value:  yellow\n",
            "list value:  orange\n",
            "list value:  emerald\n",
            "list value:  blue\n",
            "list:  ['red', 'yellow', 'orange', 'emerald', 'blue']\n",
            "last item:  ['red']\n",
            "second & third item:  ['yellow', 'orange']\n",
            "items from second item ['red', 'yellow']\n"
          ]
        }
      ]
    },
    {
      "cell_type": "markdown",
      "source": [
        "**List Methods**\n",
        "\n",
        "we can:\n",
        "\n",
        "* search for a specific item in the list.\n",
        "\n",
        "* add a new item at the end.\n",
        "\n",
        "* insert a new item at a specific index.\n",
        "\n",
        "* delete an item from the list."
      ],
      "metadata": {
        "id": "3iVUH67ovCuV"
      }
    },
    {
      "cell_type": "code",
      "source": [
        "#Add Items to a List\n",
        "colors.append('pink')\n",
        "colors.append('maron')\n",
        "print(\"Updated List: \", colors) \n",
        "\n",
        "#Insert Item at a specifiv position\n",
        "colors.insert(1, \"grey\")\n",
        "print(\"Updated List: \", colors)\n",
        "\n",
        "#concatenate several lists together with \"extend()\"\n",
        "\n",
        "#remove(): searches for the given item in the list and deletes the first occurrence\n",
        "\n",
        "#index() of the first occurrence of an item to be searched for in our list\n",
        "\n",
        "#delete an item according to its index with del()\n",
        "\n",
        "list.remove(12) # [4, 5]\n",
        "list.index(5) # prints 1\n",
        "list.extend([1, 2, 3]) # [4, 5, 1, 2, 3]\n",
        "del list[3] # [4, 5, 1, 3]\n",
        "\n",
        "#length of the list:\n",
        "\n",
        "list = [1, 2, 3]\n",
        "len(list) # will print 3"
      ],
      "metadata": {
        "colab": {
          "base_uri": "https://localhost:8080/"
        },
        "id": "eY18dgDbu_y5",
        "outputId": "478997a0-881b-4319-b37c-d19d789ac640"
      },
      "execution_count": null,
      "outputs": [
        {
          "output_type": "stream",
          "name": "stdout",
          "text": [
            "Updated List:  ['red', 'yellow', 'orange', 'emerald', 'blue', 'pink', 'maron', 'pink', 'maron']\n",
            "Updated List:  ['red', 'grey', 'yellow', 'orange', 'emerald', 'blue', 'pink', 'maron', 'pink', 'maron']\n"
          ]
        }
      ]
    },
    {
      "cell_type": "markdown",
      "source": [
        "**Dictionaries**\n",
        "\n",
        "Dictionaries are another type of object, similar to lists, but which will let you do this with a single variable! Indeed, a dictionary is a list of items organized via a system of keys. \n",
        "\n",
        "With a real dictionary, you look up a word to access its definition. In programming, this word corresponds to the key and the definition to the value associated with it. This is called a key-value pair\n",
        "\n",
        "Marion Weaver Alberto Mendoza Katharine Tyler Isaac Steele\n",
        "\n",
        "10000         150             300             1800.74\n",
        "\n",
        "Here, the first row represents the keys and the second row represents the corresponding values. Each key in a dictionary must be unique. Strings are generally used to define keys, but this is not a requirement, per se.\n",
        "\n",
        "**Declara a dictionary**\n",
        "\n",
        "Lists and dictionaries are declared in a similar way, except that a dictionary uses curly brackets instead of square brackets, and key-value pairs must be declared:"
      ],
      "metadata": {
        "id": "mMi_UKPQK25_"
      }
    },
    {
      "cell_type": "code",
      "source": [
        "#Declare a Dictionary\n",
        "accounts = {'Marion Weaver': 10000, 'Alberto Mendoza': 150, 'Katharine Tyler': 300, 'Isaac Steele': 1800.74}\n",
        "print(accounts['Alberto Mendoza']) # -> 150"
      ],
      "metadata": {
        "colab": {
          "base_uri": "https://localhost:8080/"
        },
        "id": "hNzX2hRJSNYg",
        "outputId": "a1b6b8db-5824-476b-9498-7cbe6f4b5209"
      },
      "execution_count": null,
      "outputs": [
        {
          "output_type": "stream",
          "name": "stdout",
          "text": [
            "150\n"
          ]
        }
      ]
    },
    {
      "cell_type": "markdown",
      "source": [
        "**Manipulate the Items of a Dictionary**\n",
        "\n",
        "Here are the operations frequently carried out with dictionaries:\n",
        "\n",
        "1. Access the value of an item\n",
        "2. Add a new item (a new key-value pair)\n",
        "3. Delete an item via its key\n",
        "\n",
        "A value can be accessed or modified using the same notation as with lists. With dictionaries, unlike lists, this notation even lets you add items.Let's see this in action in the following example:"
      ],
      "metadata": {
        "id": "oa5EE7NoS2Fp"
      }
    },
    {
      "cell_type": "code",
      "source": [
        "accounts['Marion Weaver'] -= 2000 # I subtract 2000 from David's account\n",
        "accounts['Alberto Mendoza'] = 3000\n",
        "accounts['Kristian Roach'] = 1000 # I add a new individual in my dictionary\n",
        "print(accounts['Kristian Roach']) # I print the value of Kristian's account\n",
        "\n",
        "#Finally, you can delete an item via the pop()  method by specifying the key of the item you want to delete.\n",
        "accounts.pop('Alberto Mendoza') # deletes Alberto Mendoza from our dictionary\n",
        "\n",
        "len(accounts) # -> 3"
      ],
      "metadata": {
        "colab": {
          "base_uri": "https://localhost:8080/"
        },
        "id": "Aa20Ju4ZUh-9",
        "outputId": "d92a1bd4-9c61-481b-c5e7-b2505b31c1a8"
      },
      "execution_count": null,
      "outputs": [
        {
          "output_type": "stream",
          "name": "stdout",
          "text": [
            "1000\n"
          ]
        },
        {
          "output_type": "execute_result",
          "data": {
            "text/plain": [
              "4"
            ]
          },
          "metadata": {},
          "execution_count": 6
        }
      ]
    },
    {
      "cell_type": "markdown",
      "source": [
        "**Understand Immutable Tuples**\n",
        "\n",
        "These are very similar to lists. They are ordered objects, so we can access the different items stored in a tuple from their index. You can store any kind of object in a tuple.\n",
        "\n",
        "The main difference is that **once a tuple has been declared, it cannot be modified**. It is then said that it is **immutable**.\n",
        "\n",
        "They can be used: -\n",
        "1. when you want to make sure that data is not modified within a program.\n",
        "2. to return several values from a function. Indeed, we didn't address this point when we talked about functions, but it is possible to return several values... with a tuple!\n",
        "3. to declare several variables in one line."
      ],
      "metadata": {
        "id": "qtGC3l2pVqKM"
      }
    },
    {
      "cell_type": "code",
      "source": [
        "#declare the tuple\n",
        "my_tuple = (1, 2, 3, 'a', 'b')\n",
        "\n",
        "#manipulate the tuple\n",
        "print(my_tuple[1]) # -> 2\n",
        "print(my_tuple[4]) # -> 'b'\n",
        "\n",
        "a, b = (1, 'apple')\n",
        "print(a) # -> 1\n",
        "print(b) # -> 'apple'"
      ],
      "metadata": {
        "colab": {
          "base_uri": "https://localhost:8080/"
        },
        "id": "RjHvgXKbjcPf",
        "outputId": "e93829bc-8f30-4edf-a45b-b20ba3ae1585"
      },
      "execution_count": null,
      "outputs": [
        {
          "output_type": "stream",
          "name": "stdout",
          "text": [
            "2\n",
            "b\n",
            "1\n",
            "apple\n"
          ]
        }
      ]
    },
    {
      "cell_type": "markdown",
      "source": [
        "As you work on more and more complex projects, writing a set of lines that run in sequence will not be enough! This is where **conditional structures** come into play."
      ],
      "metadata": {
        "id": "NhrVUNYIneJy"
      }
    },
    {
      "cell_type": "code",
      "source": [
        "name = input( 'What is your name, dear stranger?')\n",
        "\n",
        "if len(name) > 0:\n",
        "    print(\"Hello\", name, \"!\")\n",
        "else:\n",
        "    print(\"Hello, world!\")"
      ],
      "metadata": {
        "colab": {
          "base_uri": "https://localhost:8080/"
        },
        "id": "cWL2uud9ocYu",
        "outputId": "5b10c34c-e441-4f7d-f67f-13064c93f701"
      },
      "execution_count": null,
      "outputs": [
        {
          "output_type": "stream",
          "name": "stdout",
          "text": [
            "What is your name, dear stranger?Janet\n",
            "Hello Janet !\n"
          ]
        }
      ]
    },
    {
      "cell_type": "markdown",
      "source": [
        "**Use Booleans: The No-Half-Measure Type**\n",
        "\n",
        "In Python, to validate a condition, you use a special type (or object :) ) called boolean. A Boolean variable can only contain two values: True or False. It's actually a pretty simple thing, but oh so useful!"
      ],
      "metadata": {
        "id": "yVFUwsVusMfa"
      }
    },
    {
      "cell_type": "code",
      "source": [
        "thisCourseIsGreat = True\n",
        "itsAuthorIsVeryHumble = False\n",
        "\n",
        "#startswith  is a method of the string class, which returns True  when the string starts exactly with the string passed as a parameter;  \n",
        "#False , if not\n",
        "weather = \"The weather is great!\"\n",
        "weather.startswith(\"The weather\") # -> True\n",
        "\n",
        "#comparison operators\n",
        "#To produce Booleans, you can also use comparison operators.\n",
        "2 == 2 # -> True\n",
        "2 == 3 # -> False\n",
        "4 != 4 # -> False\n",
        "4!= 5 # -> True\n",
        "1 < 2 # -> True\n",
        "1 < 1 # -> False\n",
        "1 <= 1 # -> True\n",
        "3 > 4 # -> False\n",
        "5 > 4 # -> True\n",
        "5 >= 4 # -> True\n",
        "\n",
        "age=15\n",
        "\n",
        "if age>=21:\n",
        "    # Do something if age is greater than or equal to 21\n",
        "    print(\"Adult\")\n",
        "\n",
        "#Logical Operators\n",
        "#These operators will let you mix several Boolean values: specific Boolean values or expression results. There are three of them:\n",
        "\n",
        "True and True # True\n",
        "True and False # False\n",
        "False and False # False\n",
        "True or False # True\n",
        "True or True # True\n",
        "False or False # False\n",
        "not(True) # False\n",
        "not(False) # True\n",
        "\n",
        "#More than one operator\n",
        "True and True and True # True\n",
        "True and True and False # False\n",
        "True or False or False # True\n",
        "False or False or False # False\n",
        "\n",
        "\n",
        "#As with numeric operations, logical operators respect the priorities of operations: the  not  operator is applied first, \n",
        "#then the  and  operator, then the   or  operator. For example:\n",
        "False or True and True # True\n",
        "not(False) and True or False # True\n",
        "\n",
        "#use parentheses to change the order\n",
        "(True and False) or True # True\n",
        "not(True and False or not(True)) # True"
      ],
      "metadata": {
        "id": "RDfr6CEksiW8"
      },
      "execution_count": null,
      "outputs": []
    },
    {
      "cell_type": "markdown",
      "source": [
        "#**Conditional Structures**\n",
        "\n",
        "The general form of a conditional if structure is   **if condition**:  where the condition can be either a boolean, or a variable of boolean type, or the result of an expression leading to a boolean result.\n",
        "\n",
        "Another useful logical operator in Python is the**   in  operator**. This returns   True  when a value is found in a sequence (a string or a list);  False , if not.\n",
        "\n"
      ],
      "metadata": {
        "id": "-x0SSZYwuBQv"
      }
    },
    {
      "cell_type": "code",
      "source": [
        "#Chain of Conditions\n",
        "account = input(\"What is your account balance?\")\n",
        "account = int(account) # transform the answer into an integer\n",
        "\n",
        "if account >= 10000:\n",
        "    print(\"Loan granted!\")\n",
        "elif account >= 100 and account < 10000:\n",
        "    print(\"Loan in process of validation: under study\")\n",
        "else:\n",
        "    print(\"Loan refused\")\n",
        "\n",
        "#Test\n",
        "a = 5\n",
        "b = 10\n",
        "c = 7\n",
        "\n",
        "a = 5\n",
        "b = 10\n",
        "c = 7\n",
        "if c < a:\n",
        "    print(\"c is smaller than a\")\n",
        "elif c > b:\n",
        "    print(\"c is greater than b\")\n",
        "else:\n",
        "    print(\"c is between a and b\")\n"
      ],
      "metadata": {
        "colab": {
          "base_uri": "https://localhost:8080/"
        },
        "id": "__i6QA39uRoN",
        "outputId": "95125575-b608-46bf-c54e-4c2911bb48a6"
      },
      "execution_count": null,
      "outputs": [
        {
          "output_type": "stream",
          "name": "stdout",
          "text": [
            "What is your account balance?300\n",
            "Loan in process of validation: under study\n",
            "c is between a and b\n"
          ]
        }
      ]
    },
    {
      "cell_type": "markdown",
      "source": [
        "**Loop a Set Number of Times With the for Loop**\n",
        "\n",
        "For loops are used when you know in advance how many times an action will be repeated. However, unlike most other languages, in Python a for loop will necessarily iterate through a collection (list, dictionary, string, etc.).\n",
        "\n",
        "**The for Loop via an Iterative Integer Value:**\n",
        "\n",
        "To do this, you will use the   range(start, stop, step)  function, which will generate a collection of numbers according to three parameters:\n",
        "\n",
        "**Loop According to a Condition with the while Loop: **\n",
        "\n",
        "As its name implies, the while loop will run as long as a condition is met. It is a kind of combination of a for loop and an if structure. The number of repetitions is not defined in advance, but via a condition to be fulfilled, as with an if. This is called a conditional loop.\n",
        "\n"
      ],
      "metadata": {
        "id": "oJoBe65RxPVv"
      }
    },
    {
      "cell_type": "code",
      "source": [
        "myString = \"Items\"\n",
        "\n",
        "for elt in myString:\n",
        "    print(elt)\n",
        "\n",
        "#For Loop with Integers\n",
        "for i in range(0, 5, 1):\n",
        "    print(i) # -> print from 0 to 4 by steps of 1 (end - 1)\n",
        "\n",
        "for i in range(0, 5):\n",
        "    print(i) # -> prints from 0 to 4 also (default step is 1)\n",
        "\n",
        "for i in range(5):\n",
        "    print(i) # -> prints from 0 to 4 also (default start is 0)\n",
        "\n",
        "for i in range(0, 5, 2):\n",
        "    print(i) # -> print 0, 2 then 4\n",
        "\n",
        "#Test\n",
        "for i in range(0, 5, 1):\n",
        "    print(\"OpenClassrooms is really great!\")\n",
        "\n",
        "#Condition with a while loop\n",
        "#With each iteration, the   numberTrees  is incremented by one. When the variable reaches the value 10, \n",
        "#the expression   numberTrees < 10  is no longer true! At this point, the loop ends and continues running the rest of the program in order. \n",
        "#In this specific case, it prints: \"I have a cool forest!\"\n",
        "\n",
        "numberTrees = 0\n",
        "\n",
        "while numberTrees < 10:\n",
        "    numberTrees += 1\n",
        "    print(\"I planted\", numberTrees, \"trees\")\n",
        "\n",
        "print(\"I have a nice forest!\")\n",
        "\n",
        "#Test\n",
        "times = 0\n",
        "\n",
        "while times < 5:\n",
        "    times += 1\n",
        "    print(\"OpenClassrooms is really great\", times, \"times\")\n",
        "\n",
        "print(\"It's a good morning!\")\n",
        "\n"
      ],
      "metadata": {
        "colab": {
          "base_uri": "https://localhost:8080/"
        },
        "id": "xJ7fxh2Kxngy",
        "outputId": "efa63af0-669f-4f22-8de6-c5d64bcb5c5e"
      },
      "execution_count": null,
      "outputs": [
        {
          "output_type": "stream",
          "name": "stdout",
          "text": [
            "I\n",
            "t\n",
            "e\n",
            "m\n",
            "s\n",
            "0\n",
            "1\n",
            "2\n",
            "3\n",
            "4\n",
            "0\n",
            "1\n",
            "2\n",
            "3\n",
            "4\n",
            "0\n",
            "1\n",
            "2\n",
            "3\n",
            "4\n",
            "0\n",
            "2\n",
            "4\n",
            "I planted 1 trees\n",
            "I planted 2 trees\n",
            "I planted 3 trees\n",
            "I planted 4 trees\n",
            "I planted 5 trees\n",
            "I planted 6 trees\n",
            "I planted 7 trees\n",
            "I planted 8 trees\n",
            "I planted 9 trees\n",
            "I planted 10 trees\n",
            "I have a nice forest!\n"
          ]
        }
      ]
    },
    {
      "cell_type": "code",
      "source": [
        "#Skip some statements\n",
        "for i in range(10):\n",
        "    # statements executed at each iteration\n",
        "    print(i)\n",
        "    if (i == 2) or (i == 5):\n",
        "        print(\"Special case\")\n",
        "        continue\n",
        "    # statements not executed if i == 2 or 5\n",
        "    print(\"i != 2 & i != 5\")"
      ],
      "metadata": {
        "colab": {
          "base_uri": "https://localhost:8080/"
        },
        "id": "QyjYDsTA0jSt",
        "outputId": "8bfed337-d18f-440f-a272-c057bb7efa7f"
      },
      "execution_count": null,
      "outputs": [
        {
          "output_type": "stream",
          "name": "stdout",
          "text": [
            "0\n",
            "i != 2 & i != 5\n",
            "1\n",
            "i != 2 & i != 5\n",
            "2\n",
            "Special case\n",
            "3\n",
            "i != 2 & i != 5\n",
            "4\n",
            "i != 2 & i != 5\n",
            "5\n",
            "Special case\n",
            "6\n",
            "i != 2 & i != 5\n",
            "7\n",
            "i != 2 & i != 5\n",
            "8\n",
            "i != 2 & i != 5\n",
            "9\n",
            "i != 2 & i != 5\n"
          ]
        }
      ]
    },
    {
      "cell_type": "code",
      "source": [
        "#Interupt a loop with a break\n",
        "basket = [\"apple\", \"orange\", \"banana\"]\n",
        "\n",
        "for fruit in basket:\n",
        "    if fruit == \"orange\":\n",
        "        print(\"I have an orange!\")\n",
        "        break"
      ],
      "metadata": {
        "colab": {
          "base_uri": "https://localhost:8080/"
        },
        "id": "a5-SU4mD0_YY",
        "outputId": "359e8c41-03cb-4ec9-b9c1-81e1e2a89b0f"
      },
      "execution_count": null,
      "outputs": [
        {
          "output_type": "stream",
          "name": "stdout",
          "text": [
            "I have an orange!\n"
          ]
        }
      ]
    },
    {
      "cell_type": "code",
      "source": [
        "num = {'One': 1, 'Two': 3}\n",
        "print(num)\n",
        "\n",
        "num['Two'] = 2\n",
        "print(num)\n",
        "\n",
        "colors = ['Read', 'Write']\n",
        "colors.pop()\n",
        "colors.remove('Read')\n",
        "print(colors)\n",
        "\n",
        "if 'bar' in {'foo':1, 'bar':2, 'baz':3}:\n",
        "  print(1)\n",
        "  print(2)\n",
        "  if 'a' in 'qux':\n",
        "    print(3)\n",
        "print(4)\n",
        "\n",
        "\n",
        "colors = ['Read', 'Write', 'execute', 'root', 'mind']\n",
        "while colors:\n",
        "  if len(colors) < 3:\n",
        "    break\n",
        "  print(colors.pop())\n",
        "print('Done')"
      ],
      "metadata": {
        "colab": {
          "base_uri": "https://localhost:8080/"
        },
        "id": "immKccPL2Iv5",
        "outputId": "6095a47b-4b65-4c42-d428-cb320540482b"
      },
      "execution_count": null,
      "outputs": [
        {
          "output_type": "stream",
          "name": "stdout",
          "text": [
            "{'One': 1, 'Two': 3}\n",
            "{'One': 1, 'Two': 2}\n",
            "[]\n",
            "1\n",
            "2\n",
            "4\n",
            "mind\n",
            "root\n",
            "execute\n",
            "Done\n"
          ]
        }
      ]
    },
    {
      "cell_type": "markdown",
      "source": [
        "#**MODULE**\n",
        "A **module** is a Python file containing a set of predefined and operational functions, classes, and variables.\n",
        "\n",
        "For example, if you are working on a problem involving geometry, you might need:\n",
        "classes:\n",
        "\n",
        "1. Square—defined by the length of its side\n",
        "\n",
        "2. Triangle—defined by the length of its three sides\n",
        "\n",
        "3. Circle—defined by its radius\n",
        "\n",
        "4. Etc.\n",
        "\n",
        "variables:\n",
        "\n",
        "1. Pi: constant necessary for calculating the area of a circle, equal to 3.1415...\n",
        "\n",
        "2. Phi: constant that represents the golden ratio, equal to 1.6180...\n",
        "\n",
        "functions:\n",
        "\n",
        "1. Area: takes as parameter a geometrical object (square, triangle, etc.) and calculates its area\n",
        "\n",
        "2. Angles: takes a triangle as a parameter, and calculates its internal angles\n",
        "\n",
        "3. Etc."
      ],
      "metadata": {
        "id": "J6M-Qhi4_9UR"
      }
    },
    {
      "cell_type": "code",
      "source": [
        "'''\n",
        "Module geometry.py\n",
        "'''\n",
        "# variables\n",
        "pi = 3.14159265359\n",
        "phi = 1.6180\n",
        "\n",
        "# function that calculates the area\n",
        "def area(obj):\n",
        "    if type(obj) == square:\n",
        "        return obj.a**2\n",
        "\n",
        "# definitions of some classes\n",
        "class square(object):\n",
        "    def __init__(self,a):\n",
        "        self.a = a\n",
        "\n",
        "class triangle(object):\n",
        "    def __init__(self,a,b,c):\n",
        "        self.a = a\n",
        "        self.b = b\n",
        "        self.c = c"
      ],
      "metadata": {
        "id": "G-7Rf8aCAjZX"
      },
      "execution_count": null,
      "outputs": []
    },
    {
      "cell_type": "markdown",
      "source": [
        "To import a **module**, you will need the  import  keyword. Here is an example with our geometry module:\n",
        "\n",
        "All items included in the geometry module can be used via the   moduleName.  notation, i.e.,  moduleName.function()  or   moduleName.variable."
      ],
      "metadata": {
        "id": "bcxjDEctAo0O"
      }
    },
    {
      "cell_type": "code",
      "source": [
        "#import geometry\n",
        "\n",
        "#or\n",
        "\n",
        "#import geometry as geo # we can now access geo.area() or geo.pi\n",
        "\n",
        "#Or, \n",
        "\n",
        "#import specific functions that you can then use as native Python functions/variables (without the  .  notation):\n",
        "\n",
        "#from geometry import pi\n",
        "#print(pi) # -> 3.14159265359\n",
        "\n",
        "#squa = geometry.square(4)\n",
        "#tri = geometry.triangle(3, 6, 5)\n",
        "\n",
        "#print(geometry.pi) # -> 3.14159265359\n",
        "\n",
        "#geometry.area(squa) # -> 16"
      ],
      "metadata": {
        "id": "iA5mFqfFAsuN"
      },
      "execution_count": null,
      "outputs": []
    },
    {
      "cell_type": "markdown",
      "source": [
        "#**Packages**\n",
        "\n",
        "A package (sometimes called a library) is a collection, a set of Python modules. As you have seen above, a module is a Python file. A package is simply a folder containing several Python files (.py) and an additional file named   __init__.py. This differentiates a package from an ordinary folder containing only Python codes.\n",
        "\n",
        "For example, you could have stored your geometry module in three different files instead of just one:\n",
        "\n",
        "1. One for classes: classes.py\n",
        "\n",
        "2. One for variables: variables.py\n",
        "\n",
        "3. One for functions: functions.py\n",
        "\n",
        "In this case, you will need to use the . operator to access the module after importing the package:"
      ],
      "metadata": {
        "id": "0A0S-Wq5BkJ1"
      }
    },
    {
      "cell_type": "code",
      "source": [
        "#import geometry # import all the geometry package\n",
        "\n",
        "#print(geometry.variables.pi) # -> 3.1415...\n",
        "#squa = geometry.classes.square(4)\n",
        "#geometry.functions.area(squa) # -> 16\n",
        "\n",
        "#import geometry.variables as var # import only what is defined in variables.py\n",
        "\n",
        "#print(var.pi) # -> 3.1415..."
      ],
      "metadata": {
        "id": "bEEKhJ0NCotT"
      },
      "execution_count": null,
      "outputs": []
    },
    {
      "cell_type": "markdown",
      "source": [
        "**Packages are ubiquitous in data analysis with Python.**\n",
        "\n",
        "As you progress, you will be required to:\n",
        "\n",
        "1. manipulate your data to facilitate analysis.\n",
        "\n",
        "2. make various relevant graphs representing the behavior of your data.\n",
        "\n",
        "3. use statistical methods.\n",
        "\n",
        "4. run machine learning algorithms of varying complexity.\n",
        "\n",
        "etc.\n",
        "\n",
        "Main features available through the random module:\n",
        "\n",
        "1. generate a random number, integer, or decimalin a given range.\n",
        "\n",
        "2. generate a random number according to a given distribution.\n",
        "\n",
        "3. randomly select one or more items from a list, with or without replacement."
      ],
      "metadata": {
        "id": "v8fZsNAgDB-s"
      }
    },
    {
      "cell_type": "code",
      "source": [
        "import random\n",
        "\n",
        "n = random.uniform(10, 19)\n",
        "print(n)\n",
        "\n",
        "colors = [\"babe\", \"mind\", \"def\"]\n",
        "print(random.choice(colors))\n",
        "print(colors[random.randint(0,2)]) \n",
        "\n",
        "population = range(1000)\n",
        "N= 10\n",
        "\n",
        "print(random.choices(population, k=N))\n",
        "print(random.sample(population, N))\n",
        "\n",
        "ticket = []\n",
        "for n in range(N):\n",
        "  ticket.append(random.choice(population))\n",
        "print(ticket)\n",
        "\n",
        "for n in range(N):\n",
        "  ticket.append(random.randint(0, 1000))\n",
        "print(ticket)"
      ],
      "metadata": {
        "colab": {
          "base_uri": "https://localhost:8080/"
        },
        "id": "EuxNU9x6IXcr",
        "outputId": "f2e166b6-01bd-4aa9-908d-200e36c6f82c"
      },
      "execution_count": null,
      "outputs": [
        {
          "output_type": "stream",
          "name": "stdout",
          "text": [
            "18.153947740326267\n",
            "def\n",
            "babe\n",
            "[459, 30, 875, 133, 995, 103, 168, 409, 553, 863]\n",
            "[516, 973, 315, 646, 822, 276, 873, 708, 971, 245]\n",
            "[268, 643, 213, 894, 616, 440, 426, 873, 368, 900]\n",
            "[268, 643, 213, 894, 616, 440, 426, 873, 368, 900, 661, 191, 146, 647, 651, 430, 595, 75, 633, 398]\n"
          ]
        }
      ]
    },
    {
      "cell_type": "code",
      "source": [
        "import random\n",
        "\n",
        "n = random.uniform(10, 19)\n",
        "print(n)"
      ],
      "metadata": {
        "colab": {
          "base_uri": "https://localhost:8080/"
        },
        "id": "eIm5oFBmJwxb",
        "outputId": "342549f8-0c69-4b99-f898-f8399d8fa338"
      },
      "execution_count": null,
      "outputs": [
        {
          "output_type": "stream",
          "name": "stdout",
          "text": [
            "10.413693867672581\n"
          ]
        }
      ]
    },
    {
      "cell_type": "code",
      "source": [
        "population = range(1000)\n",
        "N= 10\n",
        "\n",
        "#print(random.choices(population, k=N))\n",
        "#print(random.sample(population, N))\n",
        "\n",
        "ticket = []\n",
        "#for n in range(N):\n",
        "#  ticket.append(random.choice(population))\n",
        "#print(ticket)\n",
        "\n",
        "for n in range(N):\n",
        "  ticket.append(random.randint(0, 1000))\n",
        "print(ticket)"
      ],
      "metadata": {
        "colab": {
          "base_uri": "https://localhost:8080/"
        },
        "id": "6-4fsh-MDhAi",
        "outputId": "feb31f22-136f-4b64-efc0-fa2952b4ebeb"
      },
      "execution_count": null,
      "outputs": [
        {
          "output_type": "stream",
          "name": "stdout",
          "text": [
            "[736, 771, 287, 945, 236, 943, 451, 768, 600, 466]\n"
          ]
        }
      ]
    },
    {
      "cell_type": "code",
      "source": [
        "colors = [\"babe\", \"mind\", \"def\"]\n",
        "print(random.choice(colors))\n",
        "print(colors[random.randint(0,2)])\n",
        "print(random.shuffle(colors))"
      ],
      "metadata": {
        "colab": {
          "base_uri": "https://localhost:8080/"
        },
        "id": "O5ugjp6feFxM",
        "outputId": "1c971473-8836-4f32-da44-1d2d1e1bdb41"
      },
      "execution_count": null,
      "outputs": [
        {
          "output_type": "stream",
          "name": "stdout",
          "text": [
            "mind\n",
            "mind\n",
            "None\n"
          ]
        }
      ]
    },
    {
      "cell_type": "code",
      "source": [],
      "metadata": {
        "id": "Mvis9TjB2taD"
      },
      "execution_count": null,
      "outputs": []
    }
  ]
}