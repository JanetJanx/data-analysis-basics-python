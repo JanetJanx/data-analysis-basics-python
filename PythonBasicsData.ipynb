{
  "nbformat": 4,
  "nbformat_minor": 0,
  "metadata": {
    "colab": {
      "provenance": [],
      "authorship_tag": "ABX9TyMOFGoyyxkl5lnMxmKVaP4d",
      "include_colab_link": true
    },
    "kernelspec": {
      "name": "python3",
      "display_name": "Python 3"
    },
    "language_info": {
      "name": "python"
    }
  },
  "cells": [
    {
      "cell_type": "markdown",
      "metadata": {
        "id": "view-in-github",
        "colab_type": "text"
      },
      "source": [
        "<a href=\"https://colab.research.google.com/github/JanetJanx/data-analysis-basics-python/blob/main/PythonBasicsData.ipynb\" target=\"_parent\"><img src=\"https://colab.research.google.com/assets/colab-badge.svg\" alt=\"Open In Colab\"/></a>"
      ]
    },
    {
      "cell_type": "code",
      "execution_count": null,
      "metadata": {
        "id": "S1RNjQSl6M8z"
      },
      "outputs": [],
      "source": []
    },
    {
      "cell_type": "markdown",
      "source": [
        "**Let's look at functions in Python**\n",
        "\n",
        "Functions can have parameters and return values: -\n",
        "\n",
        "1. A **return value**: - result of running the function. It is returned to the code that called the function, to be used as needed.\n",
        "\n",
        "2. **Parameters** are the data necessary for a function to be run and generate a result. They are variables defined by a name and are specified in the function declaration.\n",
        "\n",
        "3. When using a function, you pass it different values as parameters. These values are called arguments.\n",
        "\n",
        "4. You can use the help function to print the documentation of a given function."
      ],
      "metadata": {
        "id": "xOdG7s0BKrnw"
      }
    },
    {
      "cell_type": "code",
      "source": [
        "#Calculate perimeter of a triangle\n",
        "def CalculatePerimeter(dimension1, dimension2, dimension3):\n",
        "  perimeter = dimension1 + dimension2 + dimension3\n",
        "  return perimeter\n",
        "\n",
        "circleone = CalculatePerimeter(8,7,9)\n",
        "print(\"Perimeter for circle one: \", circleone)"
      ],
      "metadata": {
        "colab": {
          "base_uri": "https://localhost:8080/"
        },
        "id": "c8WG-lvc6dIT",
        "outputId": "8cb6347e-336e-47ce-85bc-1613804b7941"
      },
      "execution_count": 1,
      "outputs": [
        {
          "output_type": "stream",
          "name": "stdout",
          "text": [
            "Perimeter for circle one:  24\n"
          ]
        }
      ]
    },
    {
      "cell_type": "markdown",
      "source": [
        "**Python as an Object Oriented Programming Language**\n",
        "\n",
        "* Every time you create a variable of one of these types, you are actually Creating objects in Python with the value you assign to them as an attribute\n",
        "\n",
        "* In summary, a class is the outline of an object, defining its attributes and methods. From the same class, you can therefore create several objects of the same type, but with different attributes—these are called class instances.\n",
        "\n",
        "**Let's now focus on methods**\n",
        "\n",
        "The use of a method is always done via the   variableName.method()  notation. For example, strings have a method called   lower()  which will transform all the text contained in an object into lower case"
      ],
      "metadata": {
        "id": "wDvlR7-bScCL"
      }
    },
    {
      "cell_type": "code",
      "source": [
        "#String Method\n",
        "\n",
        "mySentence = 'I AM EXCITED!!'\n",
        "\n",
        "#whole text in lower case\n",
        "textlower = mySentence.lower()\n",
        "print(\"lower value: \", textlower)\n",
        "\n",
        "#whole text in upper case\n",
        "textupper = mySentence.upper()\n",
        "print(\"upper value: \", textupper)\n",
        "\n",
        "#whole text in capital case\n",
        "textcapital = mySentence.capitalize()\n",
        "print(\"capital value: \", textcapital)\n",
        "\n",
        "#Update or replace \n",
        "textreplace = mySentence.replace( mySentence, 'Looking forward to the Journey')\n",
        "print(\"replace value: \", textreplace)\n",
        "\n",
        "#returns either the index of the first occurrence of the string passed in the  argument, or -1 if it does not find it.\n",
        "textfind = mySentence.find(\"AM\")\n",
        "print(\"find value: \", textfind)"
      ],
      "metadata": {
        "colab": {
          "base_uri": "https://localhost:8080/"
        },
        "id": "OWDhD4EYR7iZ",
        "outputId": "5cec5b34-45a2-49be-9d35-528041045430"
      },
      "execution_count": 7,
      "outputs": [
        {
          "output_type": "stream",
          "name": "stdout",
          "text": [
            "lower value:  i am excited!!\n",
            "upper value:  I AM EXCITED!!\n",
            "capital value:  I am excited!!\n",
            "replace value:  Looking forward to the Journey\n",
            "find value:  2\n"
          ]
        }
      ]
    },
    {
      "cell_type": "markdown",
      "source": [
        "**Exercises to do**"
      ],
      "metadata": {
        "id": "xyVQIXK9aTp3"
      }
    },
    {
      "cell_type": "code",
      "source": [
        "#View the code below and select the right value for x and y\n",
        "x = 10\n",
        "x += 12\n",
        "y = int(x/4)\n",
        "x = x + y\n",
        "#print(x, y)\n",
        "\n",
        "# x = 27.5, y = 5.5\n",
        "# x = 27, y = 5.5\n",
        "# x = 27, y = 5\n",
        "# x = 27.5, y = 7"
      ],
      "metadata": {
        "colab": {
          "base_uri": "https://localhost:8080/"
        },
        "id": "oamVLmMCZVaQ",
        "outputId": "2ca5ba71-eba7-49fa-d5d8-41b8dba7ac8c"
      },
      "execution_count": 8,
      "outputs": [
        {
          "output_type": "stream",
          "name": "stdout",
          "text": [
            "27 5\n"
          ]
        }
      ]
    },
    {
      "cell_type": "code",
      "source": [
        "a = 4\n",
        "\n",
        "def poly(a, b, c, x):\n",
        "  return a*x**2 + b*x + c\n",
        "\n",
        "b = a\n",
        "b *= a\n",
        "c = 1\n",
        "result = poly(a, b, c, 0)\n",
        "a += 3\n",
        "a = 0\n",
        "\n",
        "print(result, a, b, c)\n",
        "\n",
        "#esult, a, b and c once the code above is run?"
      ],
      "metadata": {
        "colab": {
          "base_uri": "https://localhost:8080/"
        },
        "id": "cCPoODdtbG7Y",
        "outputId": "07f851ec-9cb1-44bb-cea8-58b56e626090"
      },
      "execution_count": 11,
      "outputs": [
        {
          "output_type": "stream",
          "name": "stdout",
          "text": [
            "1 0 16 1\n"
          ]
        }
      ]
    },
    {
      "cell_type": "markdown",
      "source": [
        "**Lists**\n",
        "\n",
        "These are ordered objects, i.e., each item of the list is associated with a number corresponding to its order in the list. This number is called an index and it starts at 0 (not 1!). The first item is therefore associated with index 0, the second with index 1, etc.\n",
        "\n",
        "---\n",
        "\n",
        "1. customerName = ['Marion Weaver', 'Alberto Mendoza', 'Katharine Tyler', 'Isaac Steele']\n",
        "\n",
        "---\n",
        "\n",
        "Now that your list is created, you can perform two basic operations:\n",
        "\n",
        "* Access a value at a given index\n",
        "* Change the value at a given index\n",
        "\n",
        "\n",
        "**Use indexes to modify the list items**\n"
      ],
      "metadata": {
        "id": "zhSpJMAwfDma"
      }
    },
    {
      "cell_type": "code",
      "source": [
        "\n",
        "colors = [\"red\", \"yellow\", \"orange\", \"green\", \"blue\"]\n",
        "\n",
        "colors[3] = \"emerald\"\n",
        "\n",
        "for color in colors :\n",
        "    print(color)"
      ],
      "metadata": {
        "id": "F-OL8E06pDbp"
      },
      "execution_count": null,
      "outputs": []
    }
  ]
}